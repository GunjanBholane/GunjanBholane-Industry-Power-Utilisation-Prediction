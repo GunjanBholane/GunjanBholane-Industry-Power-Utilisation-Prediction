{
 "cells": [
  {
   "cell_type": "code",
   "execution_count": 1,
   "metadata": {},
   "outputs": [
    {
     "data": {
      "text/plain": [
       "(   LaRP  LeRP   LaPF   LePF Duty  Emissions_Air_Quality_Metric\n",
       " 0  2.96   0.0  73.21  100.0  Low                           105\n",
       " 1  4.46   0.0  66.78  100.0  Low                           101\n",
       " 2  3.28   0.0  70.27  100.0  Low                            94\n",
       " 3  3.56   0.0  68.10  100.0  Low                            99\n",
       " 4  4.49   0.0  64.72  100.0  Low                           109,\n",
       " 0    3.21\n",
       " 1    3.95\n",
       " 2    3.23\n",
       " 3    3.33\n",
       " 4    3.79\n",
       " Name: Energy_Consumption, dtype: float64,\n",
       "    LaRP   LeRP    LaPF    LePF Duty  Emissions_Air_Quality_Metric\n",
       " 0  4.04   0.00   65.15  100.00  Low                           109\n",
       " 1  0.00  19.22  100.00   20.00  Low                           104\n",
       " 2  0.00   5.66  100.00   52.55  Low                           100\n",
       " 3  0.00   8.96  100.00   40.77  Low                           106\n",
       " 4  0.00   5.46  100.00   53.02  Low                           104)"
      ]
     },
     "execution_count": 1,
     "metadata": {},
     "output_type": "execute_result"
    }
   ],
   "source": [
    "import pandas as pd\n",
    "from sklearn.preprocessing import LabelEncoder\n",
    "\n",
    "# Load the datasets\n",
    "train_data = pd.read_excel(r'Training.xlsx')\n",
    "test_data = pd.read_csv(r'Test.csv')\n",
    "submission_data = (r'\Submission.csv')\n",
    "\n",
    "# Extract features and target variable\n",
    "X_train = train_data.drop(['Energy_Consumption', 'date', 'Unnamed: 0'], axis=1)\n",
    "y_train = train_data['Energy_Consumption']\n",
    "X_test = test_data.drop(['Unnamed: 0', 'TimeStamp'], axis=1)\n",
    "\n",
    "# Align columns\n",
    "common_columns = X_train.columns.intersection(X_test.columns)\n",
    "X_train = X_train[common_columns]\n",
    "X_test = X_test[common_columns]\n",
    "\n",
    "# Ensure the columns in test data match the training data\n",
    "X_train.head(), y_train.head(), X_test.head()\n"
   ]
  },
  {
   "cell_type": "code",
   "execution_count": 2,
   "metadata": {},
   "outputs": [
    {
     "name": "stdout",
     "output_type": "stream",
     "text": [
      "Train RMSE: 0.3188944243904234\n"
     ]
    }
   ],
   "source": [
    "import pandas as pd\n",
    "from sklearn.preprocessing import LabelEncoder, OneHotEncoder\n",
    "from sklearn.compose import ColumnTransformer\n",
    "from sklearn.pipeline import Pipeline\n",
    "from sklearn.ensemble import RandomForestRegressor\n",
    "from sklearn.metrics import mean_squared_error\n",
    "import numpy as np\n",
    "\n",
    "# Assume X_train and X_test are already prepared and clean\n",
    "\n",
    "# Identify categorical columns\n",
    "categorical_cols = X_train.select_dtypes(include=['object']).columns\n",
    "\n",
    "# Define transformers\n",
    "preprocessor = ColumnTransformer(\n",
    "    transformers=[\n",
    "        ('cat', OneHotEncoder(handle_unknown='ignore'), categorical_cols)\n",
    "    ],\n",
    "    remainder='passthrough'  # Keep other columns as they are\n",
    ")\n",
    "\n",
    "# Create a pipeline with preprocessing and model\n",
    "pipeline = Pipeline(steps=[\n",
    "    ('preprocessor', preprocessor),\n",
    "    ('model', RandomForestRegressor(n_estimators=100, random_state=42))\n",
    "])\n",
    "\n",
    "# Train the model\n",
    "pipeline.fit(X_train, y_train)\n",
    "\n",
    "# Predict on the training data (for evaluation purposes)\n",
    "y_train_pred = pipeline.predict(X_train)\n",
    "\n",
    "# Calculate RMSE on the training data\n",
    "train_rmse = np.sqrt(mean_squared_error(y_train, y_train_pred))\n",
    "print(\"Train RMSE:\", train_rmse)\n"
   ]
  },
  {
   "cell_type": "code",
   "execution_count": 3,
   "metadata": {},
   "outputs": [],
   "source": [
    "# Convert target variable to numeric if categorical\n",
    "label_encoder = LabelEncoder()\n",
    "y_train = label_encoder.fit_transform(y_train)\n"
   ]
  },
  {
   "cell_type": "code",
   "execution_count": 4,
   "metadata": {},
   "outputs": [],
   "source": [
    "# Predict on the test data\n",
    "y_test_pred = pipeline.predict(X_test)\n",
    "\n",
    "# Prepare the submission file\n",
    "submission_data = pd.read_csv(r'Submission.csv')\n",
    "submission_data['Energy_Consumption'] = y_test_pred\n",
    "submission_data.to_csv(r'Updated_Submission.csv', index=False)\n"
   ]
  }
 ],
 "metadata": {
  "kernelspec": {
   "display_name": "Python 3",
   "language": "python",
   "name": "python3"
  },
  "language_info": {
   "codemirror_mode": {
    "name": "ipython",
    "version": 3
   },
   "file_extension": ".py",
   "mimetype": "text/x-python",
   "name": "python",
   "nbconvert_exporter": "python",
   "pygments_lexer": "ipython3",
   "version": "3.12.2"
  }
 },
 "nbformat": 4,
 "nbformat_minor": 2
}
